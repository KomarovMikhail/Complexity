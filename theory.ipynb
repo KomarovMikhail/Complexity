{
 "cells": [
  {
   "cell_type": "markdown",
   "metadata": {},
   "source": [
    "$\\bf{\\huge{Задача\\ упаковки\\ по\\ корзинам.}}$\n",
    "\n",
    "$\\bf{\\large{Постановка\\ задачи.}}$\n",
    "\n",
    "Даны числа $a_1, ... , a_n \\in (0,1]$. Требуется разббить их на минимальное число групп, так чтобы сумма чисел в каждой группе не превышала 1. Определим $L=\\{1...n\\}$. И задача состоит в том, чтобы найти разбиение $L$ на минимальное число $m$ подмножеств $B_1,...B_m$, такое что $\\sum_{i\\in B_j}a_i \\leq 1, \\forall j \\in \\{1,...,m\\}$\n",
    "\n",
    "Интуитивно задачу можно понимать следующим образом: даны веса предметов $a_1, ... , a_n \\in (0,1]$ и корзины, которые могут вместить предметы с максимальным суммарным весом 1. Требуется разместить эти предметы по корзинам, использу минимальное число корзин.\n",
    "\n",
    "Определим $OPT \\in \\mathbb{N}$, как оптимальное решение задачи упаковки.\n",
    "\n",
    "Также для каткости введем следующее обозначение: $s(J)=\\sum_{j\\in J} a_j\\ \\forall J\\subseteq I$.\n",
    "\n",
    "$\\bf{\\large{Задание.}}$\n",
    "\n",
    "(a) Докажите, что $\\forall\\varepsilon>0$ задача о $(\\frac{3}{2}-\\varepsilon)$-приближении является $\\bf{NP}$-трудной.\n",
    "\n",
    "(b) $\\forall\\varepsilon>0$ постройте алгоритм, дающий $(1+\\varepsilon)OPT + 1$ корзин для оптимального значения $OPT$.\n",
    "\n",
    "(c) Имплементируйте этот алгоритм."
   ]
  },
  {
   "cell_type": "markdown",
   "metadata": {},
   "source": [
    "$\\bf{\\large{Часть\\ а.}}$\n",
    "\n",
    "Пусть алгоритм $A$ для множества $L$ порождает $A(L)$ контейнеров. Определим $R_A(L) \\equiv \\frac{A(L)}{OPT(L)}$. Для задачи на минимум $\\it{гарантированная\\ относительная\\ точность}$ определяется как $R_A\\equiv inf\\{r\\geq 1\\ |\\ R_A(L)\\leq r\\ \\forall L\\}$.\n",
    "\n",
    "Будем доказывать данное утверждение в предположении $\\bf{P}\\neq\\bf{NP}$. Для начала докажем следующее утверждение:\n",
    "\n",
    "$\\bf{Теорема.}$ $\\forall\\varepsilon>0$ существование полиномиального алгоритмф $А$, решающего задачу компановки, который по заданным $a_1, ... , a_n \\in (0,1]$ выдает некоторое число $r$, $r = A(a_1, ... , a_n)$, c гарантированной точностью $R_A = (\\frac{3}{2}-\\varepsilon)$ влечет $\\bf{P}=\\bf{NP}$.\n",
    "\n",
    "$\\bf{Доказательство.}$ Пусть такой алгоритм $A$ существует. Покажем, что с его помощью можно решить одну из $\\bf{NP}$-полных задач, а именно - задачу о разбиении. Задача о разбиении ставится следующим образом:\n",
    "дано $n$ неотрицательных чисел $a_1,...,a_n$. Можно ли разбить их на два подмножества таким образом, чтобы сумма чисел в каждом из этих подмножеств равнялась $C=\\frac{1}{2}\\sum_{i=1}^{n}a_i$? Эта задача является $\\bf{NP}$-полной (оставим этот факт без доказательства). Рассмотрим задачу упаковки по корзинам со следующими весами предметов: $w_i = \\frac{a_i}{C}$, $i = 1,...,n$. Если их можно упаковать в два контейнера, то ответ в адаче о разбиении - \"ДА\". То есть с помощью данного полиномиального алгоритма $A$ мы решили $\\bf{NP}$-полную задачу, из чего следует $\\bf{P}=\\bf{NP}$ - противоречие.\n",
    "\n",
    "Применим алгоритм A к поставленной задаче о контейнерах. Если $OPT=2$ то алгоритм $A$ тоже выдаст 2 и мы придем к противоречию, описанному выше. Если же $OPT\\neq2$, то алгоритм будет выдавать $A(L)\\geq3$. Тогда, исходя из определения, $R_A\\geq\\frac{3}{2}$,  то есть мы доказали посталенное утвержденние. $\\Box$"
   ]
  },
  {
   "cell_type": "markdown",
   "metadata": {},
   "source": [
    "$\\bf{\\large{Часть\\ b.}}$\n",
    "\n",
    "Сперва докажем следующи леммы:\n",
    "\n",
    "$\\bf{Лемма\\ 1.}$ Пусть $\\varepsilon>0$ и $d\\in\\mathbb{N}$. Тогда для любой задачи упаковки по корзинам, для которой $s_i\\geq\\varepsilon$ и $|\\{s_1,...,s_n\\}|\\leq d$ существует полиномиальный алгоритм, находящий оптималное решение данной задачи.\n",
    "\n",
    "$\\bf{Доказательство.}$ Количество предметов в корзинах ограниено числом $m=\\lfloor\\frac{1}{\\varepsilon}\\rfloor$. Следовательно число различных вариантов упаковки предметов для каждой корзины ограничено значением $r=C_{m}^{m+d}$, которое является константой (хотя и доольно большой). Всего использовано не более $n$ корзин, следовательно число допустимых распеределений предметов по корзинам ограничено значением $p=C_{r}^{n+r}$. Это полином от $n$, следовательно мы можем пронумеровать все распределения и выбрать оптимальное решение. $\\Box$\n",
    "\n",
    "$\\bf{Лемма\\ 2.}$ Пусть $\\varepsilon>0$. Тогда для любой задачи упаковки по корзинам, для которой $s_i\\geq\\varepsilon$, существует $(1+\\varepsilon)$-приближенный алгоритм.\n",
    "\n",
    "$\\bf{Доказательство.}$ Пусть $I$ - данная задача упаковки. Отсортируем $n$ предметов и разобьем их на $g=\\lceil\\frac{1}{\\varepsilon^2}\\rceil$, в кадой из который не более $q=\\lfloor n\\varepsilon^2\\rfloor$ предметов. Заметим, что две группы могут содержать предметы одинаковых размеров.\n",
    "\n",
    "Построим новую задачу упаковки $J$ следующим образом: в каждой группе округлим размер предметов, входящих в эту группу до размера наибольшего предмета в этой групппе. Здача $J$ имеет не более $g$ различных размеров предметов, следовательно мы сможем найти оптимальную упаковку их по контейнерам, согласно Лемме 1. Это решение, очевидно, будет допустимым и для первоначальной задачи.\n",
    "\n",
    "Теперь покажем, что $OPT(J)\\leq(1+\\varepsilon)OPT(I)$. Мы построим новую задачу упаковки $H$: в каждой группе округлим\n",
    "размер каждого предмета до размера наименьшего предмета. Очевидно $OPT(H)\\leq OPT(J)$. Ключевой момент: решение для задачи $H$ дает нам упаковку для всех предметов из задачи $J$, кроме $q$ наибольших. Следовательно:\n",
    "\n",
    "$OPT(J) \\leq OPT(H) + q \\leq OPT(I) + q$\n",
    "\n",
    "Чтобы завершить доказательство, скажем, что так как размер каждого предмета в нашей задаче не меньше $\\varepsilon$, то мы имеем $OPT(I) \\geq n\\varepsilon$ и $q=\\lfloor n\\varepsilon^2\\rfloor \\leq\\varepsilon*OPT(I)$. Следовательно:\n",
    "\n",
    "$OPT(J)\\leq(1+\\varepsilon)OPT(I)$\n",
    "\n",
    "и лемма доказана. $\\Box$\n",
    "\n",
    "Теперь мы готовы доказать основную теорему, доказывающую существование требуемого алгоритма:\n",
    "\n",
    "$\\bf{Теорема.}$ $\\forall 0<\\varepsilon\\leq\\frac{1}{2}$ существует полиномиальный алгоритм, который упаковывает предметы не более чем в $(1+\\varepsilon)OPT + 1$ корзин.\n",
    "\n",
    "$\\bf{Доказательство.}$ Пусть $I$ - данная задача упаковки. Построим новую задачу $J$, убрав из задачи $I$ все предметы, размер которых меньше $\\varepsilon$. Применяя Лемму 2, найдем упаковку оставшихся предметов в не более чем $(1+\\varepsilon)OPT(J)$ корзин. Используя алгоритм $First\\ Fit$ мы дополним решение задачи $J$, доупаковав в уже найденные корзины все предметы, размер которых меньше $\\varepsilon$. Мы возьмем дополнительную корзину, если предмет не влезает ни в одну из уже найденных корзин.\n",
    "\n",
    "Если дополнительные корзины не нужны, наша упаковка будет использовать не более чем $(1+\\varepsilon)OPT(J)\\leq (1+\\varepsilon)OPT(I)$ корзин. C другой стороны, все корзины, кроме последней, имеют остаточную пропускную способность меньше, чем $\\varepsilon$. Следовательно, $s(I) \\geq (A(I) - 1)(1 - \\varepsilon)$, что является верхней границей для $OPT(I)$. Следовательно мы имеем:\n",
    "\n",
    "$k(I) \\leq \\frac{OPT(I)}{1-\\varepsilon} + 1 \\leq (1+2\\varepsilon)OPT(I) + 1.$\n",
    "\n",
    "где $0<\\varepsilon\\leq\\frac{1}{2}$, что и завершает доказательство теоремы. $\\Box$\n",
    "\n",
    "Исходя из доказанных теорем, мы можем предъявить следующий полиномиальный алгоритм $A_{\\varepsilon}$, который для заданного $\\varepsilon \\in (0;1]$ находит упаковку с числом контейнеров не более чем $(1+\\varepsilon)OPT + 1$:\n",
    "\n",
    "1) Удалить все предметы весом меньше $\\varepsilon$.\n",
    "\n",
    "2) Упорядочить оставшиеся предметы.\n",
    "\n",
    "3) Разбить их на $K=\\lceil\\frac{1}{\\varepsilon^2}\\rceil$ групп.\n",
    "\n",
    "4) В каждой группе увеличить веса предметов до максимального веса в группе.\n",
    "\n",
    "5) Найти оптимальную упаковку предметов, имеющих только $K$ различных весов, каждый из которых не менее $\\varepsilon$.\n",
    "\n",
    "$\\it{Примечание:}$ на этом шаге теоретически можно найти оптимальную упаковку за полиномиальное время, однако на практике этот поиск занимает неприемлимо большое время, из-за появления значительной константы при оценке времени. Поэтому становится не удобно искать на этом шаге оптимальное решение и для практического удобства на данном шаге мы будем применять приближенный алгоритм $Best\\ Fit$, который находит не более чем $\\frac{11}{9}OPT+1$ контейнеров.\n",
    "\n",
    "6) Вернуть исходные веса предметов.\n",
    "\n",
    "7) Применить алгоритм $First\\ Fit$ для предметов с весом менее $\\varepsilon$.\n",
    "\n",
    "$\\bf{Описание\\ алгоритма}$ $Best\\ Fit$:\n",
    "\n",
    "В произвольном порядке упаковываем предметы по следующему правилу:\n",
    "Первый предмет помещаем в первый контейнер.\n",
    "На $k$-м шаге размещаем $k$-й предмет. Находим частично заполненные контей-\n",
    "неры, где достаточно для него свободного места и выбираем среди них наи-\n",
    "более заполненный. Если таких нет, то берем новый пустой контейнер и по-\n",
    "мещаем $k$-й предмет в него. \n",
    "\n",
    "$\\bf{Описание\\ алгоритма}$ $First\\ Fit$:\n",
    "\n",
    "В произвольном порядке упаковываем предметы по следующему правилу:\n",
    "Первый предмет помещаем в первый контейнер.\n",
    "На $k$-м шаге находим контейнер с наименьшим номером, куда помещается $k$-й\n",
    "предмет, и помещаем его туда. Если такого контейнера нет, то берем новый\n",
    "пустой контейнер и помещаем предмет в него. "
   ]
  },
  {
   "cell_type": "markdown",
   "metadata": {},
   "source": [
    "$\\bf{\\large{Часть\\ c.}}$\n",
    "\n",
    "Ниже приведена имплементация вышеописанного алгоритма:"
   ]
  },
  {
   "cell_type": "code",
   "execution_count": 70,
   "metadata": {},
   "outputs": [],
   "source": [
    "import sys\n",
    "import random\n",
    "import math\n",
    "import numpy as np\n",
    "import matplotlib.pyplot as plt\n",
    "\n",
    "\n",
    "class Packer:\n",
    "    def __init__(self, size, eps):\n",
    "        self._size = size\n",
    "        self._eps = eps\n",
    "        self._arr = []\n",
    "        self._arr_ids = range(size)\n",
    "        self._buckets = []\n",
    "        self._buckets_weight = []\n",
    "        self._buckets_count = 0\n",
    "\n",
    "    # генерирует массив a[i] с числами из интервала (0, 1) \n",
    "    def _gen_arr(self):\n",
    "        i = 0\n",
    "        while i < self._size:\n",
    "            self._arr.append(random.random())\n",
    "            i += 1\n",
    "\n",
    "    # печатает результаты вычислений\n",
    "    def print_results(self):\n",
    "        print(\"Original array:\")\n",
    "        print(self._arr)\n",
    "        print(\"=========||=========\")\n",
    "        print(\"Total buckets number:\")\n",
    "        print(self._buckets_count)\n",
    "        print(\"=========||=========\")\n",
    "        print(\"Buckets:\\n\")\n",
    "        i = 0;\n",
    "        for bucket in self._buckets:\n",
    "            print(\"Bucket \", i, \"| weight: \", self._buckets_weight[i])\n",
    "            i += 1\n",
    "            print(bucket)\n",
    "            print(\"\")\n",
    "\n",
    "    def _best_fit(self, chunks, real_chunks):\n",
    "        flag = True\n",
    "        for j in range(len(chunks)):\n",
    "            for k in range(len(chunks[j])):\n",
    "                if flag:\n",
    "                    self._buckets.append([])\n",
    "                    self._buckets[0].append(real_chunks[j][k])\n",
    "                    self._buckets_weight.append(chunks[j][k])\n",
    "                    self._buckets_count += 1\n",
    "                    flag = False\n",
    "                else:\n",
    "                    empty_space = 1\n",
    "                    cur_index = 0\n",
    "                    for i in range(self._buckets_count):\n",
    "                        if (1-self._buckets_weight[i]) > chunks[j][k]:\n",
    "                            if (1-self._buckets_weight[i]) < empty_space or empty_space == 1:\n",
    "                                empty_space = 1-self._buckets_weight[i]\n",
    "                                cur_index = i\n",
    "                    if empty_space == 1:\n",
    "                        self._buckets.append([])\n",
    "                        self._buckets[self._buckets_count].append(real_chunks[j][k])\n",
    "                        self._buckets_weight.append(chunks[j][k])\n",
    "                        self._buckets_count += 1\n",
    "                    else:\n",
    "                        self._buckets[cur_index].append(real_chunks[j][k])\n",
    "                        self._buckets_weight[cur_index] += chunks[j][k]\n",
    "                        \n",
    "                              \n",
    "\n",
    "    def _first_fit(self, arr):\n",
    "        for i in range(len(arr)):\n",
    "            flag = True\n",
    "            for j in range(self._buckets_count):\n",
    "                if arr[i] <= 1-self._buckets_weight[j]:\n",
    "                    self._buckets[j].append(arr[i])\n",
    "                    self._buckets_weight[j] += arr[i]\n",
    "                    flag = False\n",
    "                    break\n",
    "            if flag == True:\n",
    "                self._buckets.append([])\n",
    "                self._buckets[self._buckets_count].append(arr[i])\n",
    "                self._buckets_weight.append(arr[i])\n",
    "                self._buckets_count += 1\n",
    "\n",
    "\n",
    "    # имплементация алгоритма\n",
    "    def run(self):\n",
    "        random.seed()\n",
    "        self._gen_arr()\n",
    "\n",
    "        # шаг 1, отделяем значения, которые < eps\n",
    "        less_eps = []\n",
    "        more_eps = []\n",
    "        i = 0\n",
    "        while i < self._size:\n",
    "            if self._arr[i] < self._eps:\n",
    "                less_eps.append(self._arr[i])\n",
    "            else:\n",
    "                more_eps.append(self._arr[i])\n",
    "            i += 1\n",
    "\n",
    "        # шаг 2, сортируем остальные элементы\n",
    "        more_eps.sort()\n",
    "\n",
    "        # шаг 3, разбиваем их на K групп\n",
    "        k = math.ceil(1 / self._eps ** 2)\n",
    "        chunks = []\n",
    "        if k > len(more_eps):\n",
    "            i = 0\n",
    "            while i < len(more_eps):\n",
    "                chunks.append([more_eps[i]])\n",
    "                i += 1\n",
    "        else:\n",
    "            chunk_len = len(more_eps) / k\n",
    "            i = 0\n",
    "            while i < len(more_eps):\n",
    "                j = 0\n",
    "                chunk = []\n",
    "                while j < chunk_len and i < len(more_eps):\n",
    "                    chunk.append(more_eps[i])\n",
    "                    j += 1\n",
    "                    i += 1\n",
    "                chunks.append(chunk)\n",
    "\n",
    "        # шаг 4, изменяем вес предметов на max_weight в каждой группе\n",
    "        new_chunks = chunks\n",
    "        for new_chunk in new_chunks:\n",
    "            max_weight = max(new_chunk)\n",
    "            for val in new_chunk:\n",
    "                val = max_weight\n",
    "\n",
    "        # шаг 5 и 6, упаковываем эти предметы и возвращаем изначальные веса\n",
    "        self._best_fit(new_chunks, chunks)\n",
    "        for i in range(self._buckets_count):\n",
    "            self._buckets_weight[i] = sum(self._buckets[i])\n",
    "            \n",
    "        # шаг 7, упаковываем оставшиеся элементы\n",
    "        self._first_fit(less_eps)      \n",
    "        \n",
    "    def draw_results(self):\n",
    "        bucket_size = []\n",
    "        y = []\n",
    "        for bucket in self._buckets:\n",
    "            bucket_size.append(len(bucket))\n",
    "        max_size = max(bucket_size)\n",
    "        \n",
    "        plt.figure(figsize=(15,8))\n",
    "        bot = np.zeros(self._buckets_count)\n",
    "        for i in range(max_size):\n",
    "            y.append([])\n",
    "            for j in range(self._buckets_count):\n",
    "                if i < len(self._buckets[j]):\n",
    "                    y[i].append(self._buckets[j][i])\n",
    "                else:\n",
    "                    y[i].append(0)\n",
    "                    \n",
    "            plt.bar(np.arange(self._buckets_count), y[i], 0.5, color='y', bottom=bot)\n",
    "            bot = bot + y[i]\n",
    "        \n",
    "        plt.title('Elements per bucket')\n",
    "        plt.xlabel('Buckets')\n",
    "        plt.ylabel('Elements')\n",
    "        plt.grid()\n",
    "        plt.show()\n",
    "          "
   ]
  },
  {
   "cell_type": "markdown",
   "metadata": {},
   "source": [
    "Ниже приведены несколько тестов при разных размерах исходного массива и разных значениях $\\varepsilon$:"
   ]
  },
  {
   "cell_type": "code",
   "execution_count": 73,
   "metadata": {},
   "outputs": [
    {
     "name": "stdout",
     "output_type": "stream",
     "text": [
      "Original array:\n",
      "[0.162339505916398, 0.5913922589402274, 0.21952654775115177, 0.7723194937180432, 0.5982514396457377, 0.031620569836774304, 0.24536885271137898, 0.08337684109071719, 0.6572989518164266, 0.9734180144691389]\n",
      "=========||=========\n",
      "Total buckets number:\n",
      "6\n",
      "=========||=========\n",
      "Buckets:\n",
      "\n",
      "Bucket  0 | weight:  0.7422323173064203\n",
      "[0.162339505916398, 0.21952654775115177, 0.24536885271137898, 0.031620569836774304, 0.08337684109071719]\n",
      "\n",
      "Bucket  1 | weight:  0.5913922589402274\n",
      "[0.5913922589402274]\n",
      "\n",
      "Bucket  2 | weight:  0.5982514396457377\n",
      "[0.5982514396457377]\n",
      "\n",
      "Bucket  3 | weight:  0.6572989518164266\n",
      "[0.6572989518164266]\n",
      "\n",
      "Bucket  4 | weight:  0.7723194937180432\n",
      "[0.7723194937180432]\n",
      "\n",
      "Bucket  5 | weight:  0.9734180144691389\n",
      "[0.9734180144691389]\n",
      "\n"
     ]
    },
    {
     "data": {
      "image/png": "[encoded data removed]",
      "text/plain": [
       "<matplotlib.figure.Figure at 0x7fcd09da4550>"
      ]
     },
     "metadata": {},
     "output_type": "display_data"
    }
   ],
   "source": [
    "task = Packer(10, 0.1)\n",
    "task.run()\n",
    "task.print_results()\n",
    "task.draw_results()"
   ]
  },
  {
   "cell_type": "code",
   "execution_count": 74,
   "metadata": {},
   "outputs": [
    {
     "name": "stdout",
     "output_type": "stream",
     "text": [
      "Original array:\n",
      "[0.6867609705773896, 0.7476202307802661, 0.7837603291768904, 0.7130688044242159, 0.6861011552238753, 0.43395465588269333, 0.9249716464323694, 0.23670706088309312, 0.5067288584552755, 0.8471968060472819]\n",
      "=========||=========\n",
      "Total buckets number:\n",
      "8\n",
      "=========||=========\n",
      "Buckets:\n",
      "\n",
      "Bucket  0 | weight:  0.9406835143379688\n",
      "[0.5067288584552755, 0.43395465588269333]\n",
      "\n",
      "Bucket  1 | weight:  0.9228082161069684\n",
      "[0.6861011552238753, 0.23670706088309312]\n",
      "\n",
      "Bucket  2 | weight:  0.6867609705773896\n",
      "[0.6867609705773896]\n",
      "\n",
      "Bucket  3 | weight:  0.7130688044242159\n",
      "[0.7130688044242159]\n",
      "\n",
      "Bucket  4 | weight:  0.7476202307802661\n",
      "[0.7476202307802661]\n",
      "\n",
      "Bucket  5 | weight:  0.7837603291768904\n",
      "[0.7837603291768904]\n",
      "\n",
      "Bucket  6 | weight:  0.8471968060472819\n",
      "[0.8471968060472819]\n",
      "\n",
      "Bucket  7 | weight:  0.9249716464323694\n",
      "[0.9249716464323694]\n",
      "\n"
     ]
    },
    {
     "data": {
      "image/png": "[encoded data removed]",
      "text/plain": [
       "<matplotlib.figure.Figure at 0x7fcd09cbe8d0>"
      ]
     },
     "metadata": {},
     "output_type": "display_data"
    }
   ],
   "source": [
    "task = Packer(10, 0.5)\n",
    "task.run()\n",
    "task.print_results()\n",
    "task.draw_results()"
   ]
  },
  {
   "cell_type": "code",
   "execution_count": 75,
   "metadata": {},
   "outputs": [
    {
     "name": "stdout",
     "output_type": "stream",
     "text": [
      "Original array:\n",
      "[0.8879013847995482, 0.8723322846578113, 0.3706330973992651, 0.37794305384904403, 0.370197907401949, 0.4067617531351062, 0.13320875590055015, 0.054398378032302075, 0.4129224735904923, 0.44689355880094017]\n",
      "=========||=========\n",
      "Total buckets number:\n",
      "5\n",
      "=========||=========\n",
      "Buckets:\n",
      "\n",
      "Bucket  0 | weight:  0.9267306626901134\n",
      "[0.8723322846578113, 0.054398378032302075]\n",
      "\n",
      "Bucket  1 | weight:  0.8879013847995482\n",
      "[0.8879013847995482]\n",
      "\n",
      "Bucket  2 | weight:  0.8817849071488593\n",
      "[0.3706330973992651, 0.37794305384904403, 0.13320875590055015]\n",
      "\n",
      "Bucket  3 | weight:  0.7769596605370552\n",
      "[0.370197907401949, 0.4067617531351062]\n",
      "\n",
      "Bucket  4 | weight:  0.8598160323914324\n",
      "[0.4129224735904923, 0.44689355880094017]\n",
      "\n"
     ]
    },
    {
     "data": {
      "image/png": "[encoded data removed]",
      "text/plain": [
       "<matplotlib.figure.Figure at 0x7fcd09c04b70>"
      ]
     },
     "metadata": {},
     "output_type": "display_data"
    }
   ],
   "source": [
    "task = Packer(10, 0.7)\n",
    "task.run()\n",
    "task.print_results()\n",
    "task.draw_results()"
   ]
  },
  {
   "cell_type": "code",
   "execution_count": 78,
   "metadata": {},
   "outputs": [
    {
     "data": {
      "image/png": "[encoded data removed]",
      "text/plain": [
       "<matplotlib.figure.Figure at 0x7fcd099bec50>"
      ]
     },
     "metadata": {},
     "output_type": "display_data"
    }
   ],
   "source": [
    "task = Packer(100, 0.1)\n",
    "task.run()\n",
    "task.draw_results()"
   ]
  },
  {
   "cell_type": "code",
   "execution_count": 77,
   "metadata": {},
   "outputs": [
    {
     "data": {
      "image/png": "[encoded data removed]",
      "text/plain": [
       "<matplotlib.figure.Figure at 0x7fcd09c2e240>"
      ]
     },
     "metadata": {},
     "output_type": "display_data"
    }
   ],
   "source": [
    "task = Packer(100, 0.5)\n",
    "task.run()\n",
    "task.draw_results()"
   ]
  },
  {
   "cell_type": "code",
   "execution_count": 80,
   "metadata": {},
   "outputs": [
    {
     "data": {
      "image/png": "[encoded data removed]",
      "text/plain": [
       "<matplotlib.figure.Figure at 0x7fcd0991b128>"
      ]
     },
     "metadata": {},
     "output_type": "display_data"
    }
   ],
   "source": [
    "task = Packer(100, 0.7)\n",
    "task.run()\n",
    "task.draw_results()"
   ]
  },
  {
   "cell_type": "markdown",
   "metadata": {},
   "source": [
    "$\\bf{\\large{Вывод.}}$\n",
    "\n",
    "Мы реализовали алгоритм, который, как можно судить визуальному отображению результатов, работает правильно, и достаточно хорошо приближает решение к оптмальному. Однако, из за сложности и непрактичности реализации, имплементированный алгоритм приближает решение немного хуже, чем алгоритм, описанный в теоретической части работы.\n",
    "Так же, по результатам тестов можно заметить, что при увеличении значения $\\varepsilon$ алгоритм находит более компактную упаковку. Одноко, стоит отметить, что это так же может быть связано с различиями в исходных данных, так как тесты были сгенерированны случайным образом\n",
    "\n",
    "$\\bf{Ссылки:}$\n",
    "\n",
    "1) Silvano Martello and Paolo Toth. Knapsack problems. — Chichester, UK: John Wiley and Sons, 1990. — P. 221.\n",
    "\n",
    "2) E.G. Coffman, M.R. Garey, D.S. Johnson. Approximation algorithms for bin packing: A survey. "
   ]
  }
 ],
 "metadata": {
  "kernelspec": {
   "display_name": "Python 3",
   "language": "python",
   "name": "python3"
  },
  "language_info": {
   "codemirror_mode": {
    "name": "ipython",
    "version": 3
   },
   "file_extension": ".py",
   "mimetype": "text/x-python",
   "name": "python",
   "nbconvert_exporter": "python",
   "pygments_lexer": "ipython3",
   "version": "3.5.2"
  }
 },
 "nbformat": 4,
 "nbformat_minor": 2
}
